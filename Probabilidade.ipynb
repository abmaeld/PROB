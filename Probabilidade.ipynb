{
  "nbformat": 4,
  "nbformat_minor": 0,
  "metadata": {
    "colab": {
      "name": "Untitled0.ipynb",
      "version": "0.3.2",
      "provenance": [],
      "collapsed_sections": [],
      "include_colab_link": true
    },
    "kernelspec": {
      "name": "python3",
      "display_name": "Python 3"
    }
  },
  "cells": [
    {
      "cell_type": "markdown",
      "metadata": {
        "id": "view-in-github",
        "colab_type": "text"
      },
      "source": [
        "<a href=\"https://colab.research.google.com/github/abmaeld/PROB/blob/master/Probabilidade.ipynb\" target=\"_parent\"><img src=\"https://colab.research.google.com/assets/colab-badge.svg\" alt=\"Open In Colab\"/></a>"
      ]
    },
    {
      "metadata": {
        "id": "itZjxFDjeAYZ",
        "colab_type": "code",
        "colab": {}
      },
      "cell_type": "code",
      "source": [
        "# boas práticas: criar uma célula com todas as bibliotecas necessárias\n",
        "# importando as bibliotecas necessárias\n",
        "import pandas as pd\n",
        "import matplotlib.pyplot as plt\n",
        "import seaborn as sns\n",
        "import numpy as np"
      ],
      "execution_count": 0,
      "outputs": []
    },
    {
      "metadata": {
        "id": "3_BZoc1zgQip",
        "colab_type": "code",
        "colab": {}
      },
      "cell_type": "code",
      "source": [
        "# Turmas 2016.1\n",
        "# http://dados.ufrn.br/dataset/turmas\n",
        "\n",
        "# turmas dos 3 semestres\n",
        "turmas_url_2016_02 = 'http://bit.do/turmas_ufrn_2016_2'\n",
        "turmas_url_2017_02 = 'http://bit.do/turmas_ufrn_2017_2'\n",
        "turmas_url_2017_01 = 'http://bit.do/turmas_ufrn_2017_1'\n",
        "\n",
        "# matrículas em componentes dos 3 semestres\n",
        "notas_url_2016_02 = 'http://bit.do/notas_ufrn_2016_2'\n",
        "notas_url_2017_02 = 'http://bit.do/notas_ufrn_2017_2'\n",
        "notas_url_2017_01 = 'http://bit.do/notas_ufrn_2017_1'\n",
        "\n",
        "# componentes curriculares presenciais\n",
        "disciplinas_url = 'http://bit.do/componentes_curriculares_ufrn'\n",
        "\n",
        "# docentes da ufrn atualizado em 2016 e em 2017\n",
        "docentes_url_2016 = 'http://bit.do/docentes_ufrn_2017'\n",
        "docentes_url_2017 = 'http://bit.do/docentes_ufrn_2017'\n",
        "\n",
        "# turmas 2016.2 e 2017.2 e 2017.1\n",
        "turmas_2016_02 = pd.read_csv(turmas_url_2016_02, sep=';')\n",
        "turmas_2017_02 = pd.read_csv(turmas_url_2017_02, sep=';')\n",
        "turmas_2017_01 = pd.read_csv(turmas_url_2017_01, sep=';')\n",
        "\n",
        "# matriculas em componentes em todas as disciplinas\n",
        "notas_2016_02 = pd.read_csv(notas_url_2016_02, sep=';')\n",
        "notas_2017_02 = pd.read_csv(notas_url_2017_02, sep=';')\n",
        "notas_2017_01 = pd.read_csv(notas_url_2017_01, sep=';')\n",
        "\n",
        "# componentes curriculares presenciais\n",
        "# por alguma razão ou outra, esse dataset tinha algum lixo em linhas que ocasionava \n",
        "# erros de leitura, dessa forma foi realizado um filtro apenas por colunas mais importantes\n",
        "disciplinas = pd.read_csv(disciplinas_url, \n",
        "                          sep=';', \n",
        "                          usecols=[\"id_componente\",\"codigo\",\"nivel\",\"nome\",\"unidade_responsavel\"])\n",
        "\n",
        "docentes_2016 = pd.read_csv(docentes_url_2016, sep=';')\n",
        "docentes_2017 = pd.read_csv(docentes_url_2017, sep=';')"
      ],
      "execution_count": 0,
      "outputs": []
    },
    {
      "metadata": {
        "id": "fKdtJqohnDd1",
        "colab_type": "code",
        "colab": {}
      },
      "cell_type": "code",
      "source": [
        "# Adaptando o dataframe turma e disciplinas para o merge\n",
        "# Esse procedimento é necessário pois o dataframe turma está codificado com ids\n",
        "\n",
        "# A coluna id_componente precisa ser a mesma em ambos os dataframes\n",
        "turmas_2016_02.rename(columns={'id_componente_curricular': 'id_componente'}, inplace=True)\n",
        "turmas_2017_02.rename(columns={'id_componente_curricular': 'id_componente'}, inplace=True)\n",
        "turmas_2017_01.rename(columns={'id_componente_curricular': 'id_componente'}, inplace=True)\n",
        "\n",
        "# id_componente em ambos os dataframes precisam ser do mesmo tipo\n",
        "turmas_2016_02.id_componente = turmas_2016_02.id_componente.astype(str)\n",
        "turmas_2017_02.id_componente = turmas_2017_02.id_componente.astype(str)\n",
        "turmas_2017_01.id_componente = turmas_2017_01.id_componente.astype(str)\n",
        "\n",
        "# Limpando o dataframe disciplinas com linhas desnecessárias\n",
        "disciplinas.dropna(inplace=True)\n",
        "disciplinas = disciplinas[~disciplinas.id_componente.duplicated()]"
      ],
      "execution_count": 0,
      "outputs": []
    },
    {
      "metadata": {
        "id": "fam5120pnemF",
        "colab_type": "code",
        "colab": {}
      },
      "cell_type": "code",
      "source": [
        "# Fazendo um merge entre o dataframe turmas e disciplinas utilizando como base a coluna id_componente\n",
        "# https://pandas.pydata.org/pandas-docs/stable/merging.html\n",
        "colunas = [\"id_turma\",\"id_docente_interno\",\"codigo\",\"nivel_ensino\",\"nome\",\"unidade_responsavel\",\n",
        "          \"situacao_turma\",\"capacidade_aluno\",\"descricao_horario\"]\n",
        "\n",
        "# merge os dois dataframes utilizando como base a coluna id_componenteb\n",
        "merge_turmas_disciplinas_2016_02 = pd.merge(turmas_2016_02, disciplinas, on='id_componente')[colunas]\n",
        "merge_turmas_disciplinas_2017_02 = pd.merge(turmas_2017_02, disciplinas, on='id_componente')[colunas]\n",
        "merge_turmas_disciplinas_2017_01 = pd.merge(turmas_2017_01, disciplinas, on='id_componente')[colunas]\n",
        "\n",
        "merge_turmas_disciplinas_2016_02.dropna(inplace=True)\n",
        "merge_turmas_disciplinas_2017_02.dropna(inplace=True)\n",
        "merge_turmas_disciplinas_2017_01.dropna(inplace=True)"
      ],
      "execution_count": 0,
      "outputs": []
    },
    {
      "metadata": {
        "id": "Cz5YcA-doQ-r",
        "colab_type": "code",
        "colab": {}
      },
      "cell_type": "code",
      "source": [
        "# filtrando as turmas com código IMD\n",
        "turmas_imd_2016_02 = merge_turmas_disciplinas_2016_02[merge_turmas_disciplinas_2016_02.codigo.str.contains(\"IMD\")]\n",
        "turmas_imd_2017_02 = merge_turmas_disciplinas_2017_02[merge_turmas_disciplinas_2017_02.codigo.str.contains(\"IMD\")]\n",
        "turmas_imd_2017_01 = merge_turmas_disciplinas_2017_01[merge_turmas_disciplinas_2017_01.codigo.str.contains(\"IMD\")]\n",
        "# utilizar apenas disciplinas com código \"CONSOLIDADA\"\n",
        "turmas_imd_2016_02 = turmas_imd_2016_02[turmas_imd_2016_02.situacao_turma == 'CONSOLIDADA'] #Em 2016.1, o nome \"Consolidada\" foi alterado para \"Aberta\"\n",
        "turmas_imd_2017_02 = turmas_imd_2017_02[turmas_imd_2017_02.situacao_turma == 'CONSOLIDADA']\n",
        "turmas_imd_2017_01 = turmas_imd_2017_01[turmas_imd_2017_01.situacao_turma == 'CONSOLIDADA']\n",
        "\n",
        "# Adaptar o nome da coluna id_docente_interno para id_servidor\n",
        "turmas_imd_2016_02.rename(columns={'id_docente_interno': 'id_servidor'}, inplace=True)\n",
        "turmas_imd_2017_02.rename(columns={'id_docente_interno': 'id_servidor'}, inplace=True)\n",
        "turmas_imd_2017_01.rename(columns={'id_docente_interno': 'id_servidor'}, inplace=True)\n",
        "\n",
        "turmas_imd_2016_02.capacidade_aluno = turmas_imd_2016_02.capacidade_aluno.astype(np.int64)\n",
        "turmas_imd_2017_02.capacidade_aluno = turmas_imd_2017_02.capacidade_aluno.astype(np.int64)\n",
        "turmas_imd_2017_01.capacidade_aluno = turmas_imd_2017_01.capacidade_aluno.astype(np.int64)\n",
        "\n",
        "# Adaptar os tipos de dados em turmas_imd para o merge com o dataframe docentes\n",
        "turmas_imd_2016_02.id_servidor = turmas_imd_2016_02.id_servidor.astype(np.int64)\n",
        "turmas_imd_2017_02.id_servidor = turmas_imd_2017_02.id_servidor.astype(np.int64)\n",
        "turmas_imd_2017_01.id_servidor = turmas_imd_2017_01.id_servidor.astype(np.int64)"
      ],
      "execution_count": 0,
      "outputs": []
    },
    {
      "metadata": {
        "id": "bx6k4DVCpnZg",
        "colab_type": "code",
        "colab": {}
      },
      "cell_type": "code",
      "source": [
        "# merge os dataframes  turmas_imd e docentes utilizando como base a coluna id_servidor\n",
        "colunas = [\"id_turma\", \"nome_y\", \"codigo\", \"nivel_ensino\",\n",
        "          \"nome_x\",\"capacidade_aluno\", \"descricao_horario\"]\n",
        "turmas_imd_2016_02_nomesprof = pd.merge(turmas_imd_2016_02, docentes_2016, on='id_servidor')[colunas]\n",
        "turmas_imd_2017_02_nomesprof = pd.merge(turmas_imd_2017_02, docentes_2017, on='id_servidor')[colunas]\n",
        "turmas_imd_2017_01_nomesprof = pd.merge(turmas_imd_2017_01, docentes_2017, on='id_servidor')[colunas]\n"
      ],
      "execution_count": 0,
      "outputs": []
    },
    {
      "metadata": {
        "id": "2bpkMJ9vqrX-",
        "colab_type": "code",
        "colab": {}
      },
      "cell_type": "code",
      "source": [
        "# filtrar apenas as turmas do IMD\n",
        "notas_imd_2016_02 = notas_2016_02[notas_2016_02.id_turma.isin(turmas_imd_2016_02_nomesprof.id_turma)]\n",
        "notas_imd_2017_02 = notas_2017_02[notas_2017_02.id_turma.isin(turmas_imd_2017_02_nomesprof.id_turma)]\n",
        "notas_imd_2017_01 = notas_2017_01[notas_2017_01.id_turma.isin(turmas_imd_2017_01_nomesprof.id_turma)]\n",
        "\n",
        "# merge entre os dataframes notas_imd e turmas_imd_nomesprof utilizando como referencia id_turma\n",
        "notas_imd_2016_02_merge = pd.merge(notas_imd_2016_02, turmas_imd_2016_02_nomesprof, on='id_turma')\n",
        "notas_imd_2017_02_merge = pd.merge(notas_imd_2017_02, turmas_imd_2017_02_nomesprof, on='id_turma')\n",
        "notas_imd_2017_01_merge = pd.merge(notas_imd_2017_01, turmas_imd_2017_01_nomesprof, on='id_turma')\n"
      ],
      "execution_count": 0,
      "outputs": []
    },
    {
      "metadata": {
        "id": "7pts7yz2r6_m",
        "colab_type": "code",
        "colab": {}
      },
      "cell_type": "code",
      "source": [
        "def aprovado(column):\n",
        "  \n",
        "    if column[\"descricao\"]==(\"APROVADO\" or \"APROVADO POR NOTA\"):    \n",
        "        return 1     \n",
        "    else:    \n",
        "        return 0"
      ],
      "execution_count": 0,
      "outputs": []
    },
    {
      "metadata": {
        "id": "oY2M_9XXsEJL",
        "colab_type": "code",
        "colab": {}
      },
      "cell_type": "code",
      "source": [
        "# Colocando uma flag nos alunos aprovados em 2017.2\n",
        "rotulos_2016_02 = notas_imd_2016_02_merge.apply(aprovado, axis = 1)\n",
        "notas_imd_2016_02_merge[\"aprovado\"] = rotulos_2016_02"
      ],
      "execution_count": 0,
      "outputs": []
    },
    {
      "metadata": {
        "id": "66WrHkPFtmNr",
        "colab_type": "code",
        "colab": {}
      },
      "cell_type": "code",
      "source": [
        "\n",
        "rotulos_2017_02 = notas_imd_2017_02_merge.apply(aprovado, axis = 1)\n",
        "notas_imd_2017_02_merge[\"aprovado\"] = rotulos_2017_02"
      ],
      "execution_count": 0,
      "outputs": []
    },
    {
      "metadata": {
        "id": "MnYBnwRntvDe",
        "colab_type": "code",
        "colab": {}
      },
      "cell_type": "code",
      "source": [
        "rotulos_2017_01 = notas_imd_2017_01_merge.apply(aprovado, axis = 1)\n",
        "notas_imd_2017_01_merge[\"aprovado\"] = rotulos_2017_01"
      ],
      "execution_count": 0,
      "outputs": []
    },
    {
      "metadata": {
        "id": "BKyuTElauUU2",
        "colab_type": "code",
        "colab": {}
      },
      "cell_type": "code",
      "source": [
        "#Separando e tratando os alunos de graduação em 2017.2\n",
        "graduacao_imd_2016_02 = notas_imd_2016_02_merge[notas_imd_2016_02_merge[\"nivel_ensino\"] != \"LATO SENSU\"]\n",
        "graduacao_imd_2016_02 = graduacao_imd_2016_02[graduacao_imd_2016_02[\"descricao\"] != \"INDEFERIDO\"]\n",
        "graduacao_imd_2016_02 = graduacao_imd_2016_02[graduacao_imd_2016_02[\"descricao\"] != \"CANCELADO\"]\n",
        "graduacao_imd_2016_02 = graduacao_imd_2016_02[graduacao_imd_2016_02[\"descricao\"] != \"EXCLUIDA\"]\n",
        "\n",
        "graduacao_imd_2017_01 = notas_imd_2017_01_merge[notas_imd_2017_01_merge[\"nivel_ensino\"] != \"LATO SENSU\"]\n",
        "graduacao_imd_2017_01 = graduacao_imd_2017_01[graduacao_imd_2017_01[\"descricao\"] != \"INDEFERIDO\"]\n",
        "graduacao_imd_2017_01 = graduacao_imd_2017_01[graduacao_imd_2017_01[\"descricao\"] != \"CANCELADO\"]\n",
        "graduacao_imd_2017_01 = graduacao_imd_2017_01[graduacao_imd_2017_01[\"descricao\"] != \"EXCLUIDA\"]\n",
        "\n",
        "graduacao_imd_2017_02 = notas_imd_2017_02_merge[notas_imd_2017_02_merge[\"nivel_ensino\"] != \"LATO SENSU\"]\n",
        "graduacao_imd_2017_02 = graduacao_imd_2017_02[graduacao_imd_2017_02[\"descricao\"] != \"INDEFERIDO\"]\n",
        "graduacao_imd_2017_02 = graduacao_imd_2017_02[graduacao_imd_2017_02[\"descricao\"] != \"CANCELADO\"]\n",
        "graduacao_imd_2017_02 = graduacao_imd_2017_02[graduacao_imd_2017_02[\"descricao\"] != \"EXCLUIDA\"]"
      ],
      "execution_count": 0,
      "outputs": []
    },
    {
      "metadata": {
        "id": "OF7rHgellTCb",
        "colab_type": "code",
        "colab": {}
      },
      "cell_type": "code",
      "source": [
        "#Separando as turmas da disciplina de probabilidade em cada semestre\n",
        "graduacao_imd_2016_02.sort_values(ascending = True, by = \"nome_x\", inplace = True)\n",
        "graduacao_imd_2016_02.reset_index(inplace = True)\n",
        "materias_2016_02 = graduacao_imd_2016_02.nome_x.unique()\n",
        "\n",
        "graduacao_imd_2017_01.sort_values(ascending = True, by = \"nome_x\", inplace = True)\n",
        "graduacao_imd_2017_01.reset_index(inplace = True)\n",
        "materias_2017_01 = graduacao_imd_2017_01.nome_x.unique()\n",
        "\n",
        "graduacao_imd_2017_02.sort_values(ascending = True, by = \"nome_x\", inplace = True)\n",
        "graduacao_imd_2017_02.reset_index(inplace = True)\n",
        "materias_2017_02 = graduacao_imd_2017_02.nome_x.unique()\n",
        "\n",
        "graduacao_imd_2016_02 = graduacao_imd_2016_02.loc[graduacao_imd_2016_02['nome_x'] == 'PROBABILIDADE']\n",
        "\n",
        "graduacao_imd_2017_01 = graduacao_imd_2017_01.loc[graduacao_imd_2017_01['nome_x'] == 'PROBABILIDADE']\n",
        "\n",
        "graduacao_imd_2017_02 = graduacao_imd_2017_02.loc[graduacao_imd_2017_02['nome_x'] == 'PROBABILIDADE']"
      ],
      "execution_count": 0,
      "outputs": []
    },
    {
      "metadata": {
        "id": "g46VvqcUmH4U",
        "colab_type": "code",
        "colab": {}
      },
      "cell_type": "code",
      "source": [
        "#Realizando os cálculos da taxa de aprovação de cada um dos semestres\n",
        "prob_2016_02 = graduacao_imd_2016_02[graduacao_imd_2016_02.duplicated(subset = \"discente\", keep = 'first') != True]\n",
        "aprovados_prob_2016_02 = prob_2016_02.pivot_table(index = [\"nome_x\"], values = \"aprovado\", aggfunc = np.sum)\n",
        "quantidade_alunos = prob_2016_02.pivot_table(index = \"nome_x\", values = \"capacidade_aluno\", aggfunc = len)\n",
        "percent = (aprovados_prob_2016_02.aprovado/quantidade_alunos.capacidade_aluno)*100\n",
        "aprovados_prob_2016_02.aprovado = percent\n",
        "\n",
        "\n",
        "prob_2017_01 = graduacao_imd_2017_01[graduacao_imd_2017_01.duplicated(subset = \"discente\", keep = 'first') != True]\n",
        "aprovados_prob_2017_01 = prob_2017_01.pivot_table(index = [\"nome_x\"], values = 'aprovado' , aggfunc = np.sum)\n",
        "quantidade_alunos = prob_2017_01.pivot_table(index = \"nome_x\", values = \"capacidade_aluno\", aggfunc = len)\n",
        "percent = (aprovados_prob_2017_01.aprovado/quantidade_alunos.capacidade_aluno)*100\n",
        "aprovados_prob_2017_01.aprovado = percent\n",
        "\n",
        "prob_2017_02 = graduacao_imd_2017_02[graduacao_imd_2017_02.duplicated(subset = \"discente\", keep = 'first') != True]\n",
        "aprovados_prob_2017_02 = prob_2017_02.pivot_table(index = [\"nome_x\"], values = 'aprovado' , aggfunc = np.sum)\n",
        "quantidade_alunos = prob_2017_02.pivot_table(index = \"nome_x\", values = \"capacidade_aluno\", aggfunc = len)\n",
        "percent = (aprovados_prob_2017_02.aprovado/quantidade_alunos.capacidade_aluno)*100\n",
        "aprovados_prob_2017_02.aprovado = percent\n"
      ],
      "execution_count": 0,
      "outputs": []
    },
    {
      "metadata": {
        "id": "jlqmU8K6y6Lh",
        "colab_type": "code",
        "colab": {}
      },
      "cell_type": "code",
      "source": [
        "#Realizando os cálculos da taxa de aprovação por horário\n",
        "prob_2016_02 = graduacao_imd_2016_02[graduacao_imd_2016_02.duplicated(subset = \"discente\", keep = 'first') != True]\n",
        "aprovados_prob_2016_02_horario = prob_2016_02.pivot_table(index = [\"descricao_horario\"], values = \"aprovado\", aggfunc = np.sum)\n",
        "quantidade_alunos = prob_2016_02.pivot_table(index = \"descricao_horario\", values = \"capacidade_aluno\", aggfunc = len)\n",
        "percent = (aprovados_prob_2016_02_horario.aprovado/quantidade_alunos.capacidade_aluno)*100\n",
        "aprovados_prob_2016_02_horario.aprovado = percent\n",
        "\n",
        "\n",
        "prob_2017_01 = graduacao_imd_2017_01[graduacao_imd_2017_01.duplicated(subset = \"discente\", keep = 'first') != True]\n",
        "aprovados_prob_2017_01_horario = prob_2017_01.pivot_table(index = [\"descricao_horario\"], values = 'aprovado' , aggfunc = np.sum)\n",
        "quantidade_alunos = prob_2017_01.pivot_table(index = \"descricao_horario\", values = \"capacidade_aluno\", aggfunc = len)\n",
        "percent = (aprovados_prob_2017_01_horario.aprovado/quantidade_alunos.capacidade_aluno)*100\n",
        "aprovados_prob_2017_01_horario.aprovado = percent\n",
        "\n",
        "prob_2017_02 = graduacao_imd_2017_02[graduacao_imd_2017_02.duplicated(subset = \"discente\", keep = 'first') != True]\n",
        "aprovados_prob_2017_02_horario = prob_2017_02.pivot_table(index = [\"descricao_horario\"], values = 'aprovado' , aggfunc = np.sum)\n",
        "quantidade_alunos = prob_2017_02.pivot_table(index = \"descricao_horario\", values = \"capacidade_aluno\", aggfunc = len)\n",
        "percent = (aprovados_prob_2017_02_horario.aprovado/quantidade_alunos.capacidade_aluno)*100\n",
        "aprovados_prob_2017_02_horario.aprovado = percent"
      ],
      "execution_count": 0,
      "outputs": []
    },
    {
      "metadata": {
        "id": "rwNv8F5Bz8QU",
        "colab_type": "code",
        "colab": {}
      },
      "cell_type": "code",
      "source": [
        "#Realizando os cálculos da taxa de aprovação por professor\n",
        "prob_2016_02 = graduacao_imd_2016_02[graduacao_imd_2016_02.duplicated(subset = \"discente\", keep = 'first') != True]\n",
        "aprovados_prob_2016_02_professor = prob_2016_02.pivot_table(index = [\"nome_y\"], values = \"aprovado\", aggfunc = np.sum)\n",
        "quantidade_alunos = prob_2016_02.pivot_table(index = \"nome_y\", values = \"capacidade_aluno\", aggfunc = len)\n",
        "percent = (aprovados_prob_2016_02_professor.aprovado/quantidade_alunos.capacidade_aluno)*100\n",
        "aprovados_prob_2016_02_professor.aprovado = percent\n",
        "\n",
        "prob_2017_01 = graduacao_imd_2017_01[graduacao_imd_2017_01.duplicated(subset = \"discente\", keep = 'first') != True]\n",
        "aprovados_prob_2017_01_professor = prob_2017_01.pivot_table(index = [\"nome_y\"], values = 'aprovado' , aggfunc = np.sum)\n",
        "quantidade_alunos = prob_2017_01.pivot_table(index = \"nome_y\", values = \"capacidade_aluno\", aggfunc = len)\n",
        "percent = (aprovados_prob_2017_01_professor.aprovado/quantidade_alunos.capacidade_aluno)*100\n",
        "aprovados_prob_2017_01_professor.aprovado = percent\n",
        "\n",
        "prob_2017_02 = graduacao_imd_2017_02[graduacao_imd_2017_02.duplicated(subset = \"discente\", keep = 'first') != True]\n",
        "aprovados_prob_2017_02_professor = prob_2017_02.pivot_table(index = [\"nome_y\"], values = 'aprovado' , aggfunc = np.sum)\n",
        "quantidade_alunos = prob_2017_02.pivot_table(index = \"nome_y\", values = \"capacidade_aluno\", aggfunc = len)\n",
        "percent = (aprovados_prob_2017_02_professor.aprovado/quantidade_alunos.capacidade_aluno)*100\n",
        "aprovados_prob_2017_02_professor.aprovado = percent"
      ],
      "execution_count": 0,
      "outputs": []
    },
    {
      "metadata": {
        "id": "QrFf0NtRS4Rf",
        "colab_type": "code",
        "colab": {}
      },
      "cell_type": "code",
      "source": [
        "def reduce(str, n):\n",
        "  \n",
        "  str_splited = str.split();\n",
        "  \n",
        "  str = '';\n",
        "  \n",
        "  for i in range(n):\n",
        "    \n",
        "    str += str_splited[i];\n",
        "    \n",
        "    if i+1 != n:\n",
        "      \n",
        "      str += ' ';\n",
        "    \n",
        "  return str;\n",
        "\n",
        "def reduce_names(arr, n):\n",
        "  \n",
        "  n_arr = [None] * len(arr);\n",
        "  \n",
        "  for i in range(len(arr)):\n",
        "    \n",
        "    n_arr[i] = reduce(arr[i], n);\n",
        "  \n",
        "  return n_arr;"
      ],
      "execution_count": 0,
      "outputs": []
    },
    {
      "metadata": {
        "id": "38TT-huATCQ9",
        "colab_type": "code",
        "outputId": "e89379f8-33c4-45d9-8432-cafc28f50553",
        "colab": {
          "base_uri": "https://localhost:8080/",
          "height": 280
        }
      },
      "cell_type": "code",
      "source": [
        "print('Aprovação/Reprovação por semestre')\n",
        "\n",
        "fig = plt.figure(figsize=(13, 4));\n",
        "\n",
        "plt.subplot(1, 3, 1);\n",
        "plt.title('2016.2');\n",
        "prob_2016_02.aprovado.value_counts().plot(kind='pie', labels=['Reprovado', 'Aprovado'], autopct='%.2f%%');\n",
        "plt.ylabel('');\n",
        "\n",
        "plt.subplot(1, 3, 2);\n",
        "plt.title('2017.1');\n",
        "prob_2017_01.aprovado.value_counts().plot(kind='pie', labels=['Reprovado', 'Aprovado'], autopct='%.2f%%');\n",
        "plt.ylabel('');\n",
        "\n",
        "plt.subplot(1, 3, 3);\n",
        "plt.title('2017.2');\n",
        "prob_2017_02.aprovado.value_counts().plot(kind='pie', labels=['Reprovado', 'Aprovado'], autopct='%.2f%%');\n",
        "plt.ylabel('');\n",
        "\n",
        "plt.show();\n"
      ],
      "execution_count": 18,
      "outputs": [
        {
          "output_type": "stream",
          "text": [
            "Aprovação/Reprovação por semestre\n"
          ],
          "name": "stdout"
        },
        {
          "output_type": "display_data",
          "data": {
            "image/png": "[encoded data removed]",
            "text/plain": [
              "<matplotlib.figure.Figure at 0x7fd8e5df4b70>"
            ]
          },
          "metadata": {
            "tags": []
          }
        }
      ]
    },
    {
      "metadata": {
        "id": "0-YO4oCPcUVd",
        "colab_type": "code",
        "outputId": "19b0c252-d3d4-47c0-9adb-c4a28600a6c2",
        "colab": {
          "base_uri": "https://localhost:8080/",
          "height": 335
        }
      },
      "cell_type": "code",
      "source": [
        "semestres = ['2016.2', '2017.1', '2017.2'];\n",
        "\n",
        "APROVADO = [aprovados_prob_2016_02.aprovado.PROBABILIDADE, aprovados_prob_2017_01.aprovado.PROBABILIDADE, aprovados_prob_2017_02.aprovado.PROBABILIDADE];\n",
        "REPROVADO = [100 - APROVADO[0], 100 - APROVADO[1], 100 - APROVADO[2]];\n",
        "\n",
        "df = pd.DataFrame({'Aprovados': APROVADO, 'Reprovados': REPROVADO}, index=semestres);\n",
        "df.plot.line(figsize=(15, 5));\n",
        "plt.xticks(range((len(semestres))), semestres, rotation='horizontal');\n",
        "plt.ylim(0, 100);\n",
        "plt.legend();\n",
        "plt.title('Aprovação na disciplina de Probabilidade')\n",
        "plt.show();"
      ],
      "execution_count": 97,
      "outputs": [
        {
          "output_type": "display_data",
          "data": {
            "image/png": "[encoded data removed]",
            "text/plain": [
              "<matplotlib.figure.Figure at 0x7fd8e1ee9a58>"
            ]
          },
          "metadata": {
            "tags": []
          }
        }
      ]
    },
    {
      "metadata": {
        "id": "SM9sBdr_caGN",
        "colab_type": "code",
        "outputId": "bac2a83e-895a-4051-ec4d-df1c2dd5f86b",
        "colab": {
          "base_uri": "https://localhost:8080/",
          "height": 280
        }
      },
      "cell_type": "code",
      "source": [
        "TURMAS_NUM = pd.Series([len(aprovados_prob_2016_02_horario), len(aprovados_prob_2017_01_horario), len(aprovados_prob_2017_02_horario)]);\n",
        "TURMAS_NUM.plot(kind='bar', figsize=(15, 4));\n",
        "plt.ylim(0,4);\n",
        "plt.title('Número de turmas ofertadas de Probabilidade')\n",
        "plt.xticks(range((len(semestres))), semestres, rotation='horizontal');"
      ],
      "execution_count": 96,
      "outputs": [
        {
          "output_type": "display_data",
          "data": {
            "image/png": "[encoded data removed]",
            "text/plain": [
              "<matplotlib.figure.Figure at 0x7fd8e1e17f98>"
            ]
          },
          "metadata": {
            "tags": []
          }
        }
      ]
    },
    {
      "metadata": {
        "id": "l2gFiYr11fE0",
        "colab_type": "code",
        "outputId": "d18c87d8-c828-434c-b698-267ce149428e",
        "colab": {
          "base_uri": "https://localhost:8080/",
          "height": 297
        }
      },
      "cell_type": "code",
      "source": [
        "print('Aprovação por turma');\n",
        "\n",
        "fig = plt.figure(figsize=(13, 4));\n",
        "\n",
        "plt.subplot(1, 3, 1);\n",
        "plt.title('2016.2');\n",
        "aprovados_prob_2016_02_horario.aprovado.plot(kind='bar', width=0.5);\n",
        "plt.xticks(range(len(aprovados_prob_2016_02_horario.index.values)), reduce_names(aprovados_prob_2016_02_horario.index.values, 1), rotation='horizontal');\n",
        "plt.xlabel('');\n",
        "plt.ylim(0, 100);\n",
        "\n",
        "plt.subplot(1, 3, 2);\n",
        "plt.title('2017.1');\n",
        "aprovados_prob_2017_01_horario.aprovado.plot(kind='bar', width=0.5);\n",
        "plt.xticks(range(len(aprovados_prob_2017_01_horario.index.values)), reduce_names(aprovados_prob_2017_01_horario.index.values, 1), rotation='horizontal');\n",
        "plt.xlabel('');\n",
        "plt.ylim(0, 100);\n",
        "\n",
        "plt.subplot(1, 3, 3);\n",
        "plt.title('2017.2');\n",
        "aprovados_prob_2017_02_horario.aprovado.plot(kind='bar', width=0.175);\n",
        "plt.xticks(range(len(aprovados_prob_2017_02_horario.index.values)), reduce_names(aprovados_prob_2017_02_horario.index.values, 1), rotation='horizontal');\n",
        "plt.xlabel('');\n",
        "plt.ylim(0, 100);\n",
        "\n",
        "plt.show();"
      ],
      "execution_count": 21,
      "outputs": [
        {
          "output_type": "stream",
          "text": [
            "Aprovação por turma\n"
          ],
          "name": "stdout"
        },
        {
          "output_type": "display_data",
          "data": {
            "image/png": "[encoded data removed]",
            "text/plain": [
              "<matplotlib.figure.Figure at 0x7fd8e5e0e9e8>"
            ]
          },
          "metadata": {
            "tags": []
          }
        }
      ]
    },
    {
      "metadata": {
        "id": "WcMSyOGcc8s6",
        "colab_type": "code",
        "outputId": "ed28815d-5744-445c-ced1-fe02fda64db9",
        "colab": {
          "base_uri": "https://localhost:8080/",
          "height": 280
        }
      },
      "cell_type": "code",
      "source": [
        "labels = ['M', 'T', 'N'];\n",
        "\n",
        "fig = plt.figure(figsize=(13, 4));\n",
        "\n",
        "plt.subplot(1, 1, 1);\n",
        "plt.title('Aprovação por turno');\n",
        "plt.xticks(range((len(turnos))), turnos, rotation='horizontal');\n",
        "\n",
        "TURNOS = [[0,0],[0,0],[0,0]];\n",
        "  \n",
        "def update_turns(df, TURNOS):\n",
        "  \n",
        "  turmas = reduce_names(df.index.values, 1);\n",
        "  \n",
        "  for i in range(len(df)):\n",
        "    \n",
        "    if 'M' in turmas[i]:\n",
        "      \n",
        "      TURNOS[0][0] += df.iloc[i].aprovado;\n",
        "      TURNOS[0][1] += 1;\n",
        "   \n",
        "    elif 'T' in turmas[i]:\n",
        "      \n",
        "      TURNOS[1][0] += df.iloc[i].aprovado;\n",
        "      TURNOS[1][1] += 1;\n",
        "      \n",
        "    elif 'N' in turmas[i]:\n",
        "      \n",
        "      TURNOS[2][0] += df.iloc[i].aprovado;\n",
        "      TURNOS[2][1] += 1;\n",
        "\n",
        "  return TURNOS;\n",
        "\n",
        "def safe_div(x,y):\n",
        "  \n",
        "    if y == 0:\n",
        "      \n",
        "        return 0;\n",
        "      \n",
        "    return x / y;\n",
        "\n",
        "TURNOS = update_turns(aprovados_prob_2016_02_horario, TURNOS);\n",
        "TURNOS = update_turns(aprovados_prob_2017_01_horario, TURNOS);\n",
        "TURNOS = update_turns(aprovados_prob_2017_02_horario, TURNOS);\n",
        "\n",
        "APR = pd.Series([safe_div(TURNOS[0][0],TURNOS[0][1]), safe_div(TURNOS[1][0],TURNOS[1][1]), safe_div(TURNOS[2][0],TURNOS[2][1])]);\n",
        "\n",
        "for i in range(len(APR)):\n",
        "   \n",
        "    if APR[i] == 0:\n",
        "      \n",
        "      APR = APR.drop(labels=i);\n",
        "      labels.pop(i);\n",
        "\n",
        "APR.plot(kind='bar');\n",
        "plt.xticks(range(len(labels)), labels, rotation='horizontal');\n",
        "\n",
        "plt.show();"
      ],
      "execution_count": 86,
      "outputs": [
        {
          "output_type": "display_data",
          "data": {
            "image/png": "[encoded data removed]",
            "text/plain": [
              "<matplotlib.figure.Figure at 0x7fd8e239c780>"
            ]
          },
          "metadata": {
            "tags": []
          }
        }
      ]
    },
    {
      "metadata": {
        "id": "O3nkBgxLTFXt",
        "colab_type": "code",
        "outputId": "92488992-5bfe-453c-9656-1497f17c0eba",
        "colab": {
          "base_uri": "https://localhost:8080/",
          "height": 297
        }
      },
      "cell_type": "code",
      "source": [
        "print('Aprovação por professor');\n",
        "\n",
        "fig = plt.figure(figsize=(13, 4));\n",
        "\n",
        "plt.subplot(1, 3, 1);\n",
        "plt.title('2016.2');\n",
        "aprovados_prob_2016_02_professor.aprovado.plot(kind='bar', width=0.5);\n",
        "plt.xticks(range((len(aprovados_prob_2016_02_professor))), reduce_names(aprovados_prob_2016_02_professor.index.values, 2), rotation='horizontal');\n",
        "plt.xlabel('');\n",
        "plt.ylim(0, 100);\n",
        "\n",
        "plt.subplot(1, 3, 2);\n",
        "plt.title('2017.1');\n",
        "aprovados_prob_2017_01_professor.aprovado.plot(kind='bar', width=0.5);\n",
        "plt.xticks(range((len(aprovados_prob_2017_01_professor))),  reduce_names(aprovados_prob_2017_01_professor.index.values, 2), rotation='horizontal');\n",
        "plt.xlabel('');\n",
        "plt.ylim(0, 100);\n",
        "\n",
        "plt.subplot(1, 3, 3);\n",
        "plt.title('2017.2');\n",
        "aprovados_prob_2017_02_professor.aprovado.plot(kind='bar', width=0.175);\n",
        "plt.xticks(range((len(aprovados_prob_2017_02_professor))),  reduce_names(aprovados_prob_2017_02_professor.index.values, 2), rotation='horizontal');\n",
        "plt.xlabel('');\n",
        "plt.ylim(0, 100);\n",
        "\n",
        "plt.show();"
      ],
      "execution_count": 94,
      "outputs": [
        {
          "output_type": "stream",
          "text": [
            "Aprovação por professor\n"
          ],
          "name": "stdout"
        },
        {
          "output_type": "display_data",
          "data": {
            "image/png": "[encoded data removed]",
            "text/plain": [
              "<matplotlib.figure.Figure at 0x7fd8e1efbb38>"
            ]
          },
          "metadata": {
            "tags": []
          }
        }
      ]
    },
    {
      "metadata": {
        "id": "M7nbmkvog_2t",
        "colab_type": "code",
        "colab": {
          "base_uri": "https://localhost:8080/",
          "height": 362
        },
        "outputId": "a932f558-d560-4752-c8f7-d4738f71d230"
      },
      "cell_type": "code",
      "source": [
        "#Média de aprovação por docente no período de 2016.2 à 2017.2\n",
        "\n",
        "percent_professor = ((aprovados_prob_2016_02_professor+aprovados_prob_2017_01_professor)/2).append(aprovados_prob_2017_02_professor)\n",
        "#print(percent_professor)\n",
        "percent_professor.plot(kind='bar');\n",
        "plt.xticks(range((len(percent_professor))),  reduce_names(percent_professor.index.values, 2), rotation='horizontal');\n",
        "plt.xlabel('');\n",
        "plt.ylim(0, 100);\n",
        "plt.title('Média de aprovação por docente nos semestres de 2016.2 a 2017.2');\n",
        "plt.legend(['Aprovado']);\n",
        "plt.show()"
      ],
      "execution_count": 98,
      "outputs": [
        {
          "output_type": "display_data",
          "data": {
            "image/png": "[encoded data removed]",
            "text/plain": [
              "<matplotlib.figure.Figure at 0x7fd8e5ea3828>"
            ]
          },
          "metadata": {
            "tags": []
          }
        }
      ]
    }
  ]
}